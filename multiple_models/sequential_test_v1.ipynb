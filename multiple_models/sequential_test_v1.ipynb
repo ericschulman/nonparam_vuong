{
 "cells": [
  {
   "cell_type": "code",
   "execution_count": 1,
   "id": "5023a4d1",
   "metadata": {},
   "outputs": [],
   "source": [
    "%load_ext autoreload\n",
    "%autoreload 2\n",
    "\n",
    "import numpy as np\n",
    "import scipy.stats as stats\n",
    "import scipy.special\n",
    "#graphing\n",
    "import matplotlib.pyplot as plt\n",
    "#stats\n",
    "import statsmodels.api as sm\n",
    "from statsmodels.base.model import GenericLikelihoodModel\n",
    "\n",
    "#import testing\n",
    "import sys\n",
    "sys.path.append(\"../\")\n",
    "import vuong_tests5"
   ]
  },
  {
   "cell_type": "code",
   "execution_count": 2,
   "id": "c0009daa",
   "metadata": {},
   "outputs": [],
   "source": [
    "class OLS_loglike(GenericLikelihoodModel):\n",
    "    \n",
    "    def __init__(self, *args,ols=False, **kwargs):\n",
    "        super(OLS_loglike,self).__init__(*args,**kwargs)\n",
    "        self.ols = ols\n",
    "\n",
    "    def loglikeobs(self, params):\n",
    "        y = self.endog\n",
    "        x = self.exog\n",
    "        mu_y = np.matmul(x,params)  \n",
    "        resid = y - mu_y\n",
    "        sigma = np.sqrt(np.sum(resid**2)/resid.shape[0])\n",
    "        pr_y = stats.norm.logpdf( resid, loc=0,scale=sigma )\n",
    "        return pr_y"
   ]
  },
  {
   "cell_type": "code",
   "execution_count": 3,
   "id": "01eb018b",
   "metadata": {},
   "outputs": [],
   "source": [
    "def gen_data(nobs=1000, a=1.00, num_params=4):\n",
    "    x = np.random.normal(scale=1., size=(nobs,num_params))\n",
    "    e = np.random.normal(loc=0.0, scale=1.0, size=nobs)\n",
    "    y = 1 + a*x.sum(axis=1) + e\n",
    "    return y,x,nobs"
   ]
  },
  {
   "cell_type": "code",
   "execution_count": 4,
   "id": "a64c168d",
   "metadata": {},
   "outputs": [
    {
     "data": {
      "text/plain": [
       "2.6478029333333626"
      ]
     },
     "execution_count": 4,
     "metadata": {},
     "output_type": "execute_result"
    }
   ],
   "source": [
    "def setup_model(yn,xn):\n",
    "    \"\"\"setup models for ease\"\"\"\n",
    "    model1 = sm.OLS(yn,sm.add_constant(xn))\n",
    "    model1_fit = model1.fit(disp=False)\n",
    "    params1 = (model1_fit.params)\n",
    "    model1_deriv = OLS_loglike(yn,sm.add_constant(xn))\n",
    "    ll1 = model1_deriv.loglikeobs(model1_fit.params)\n",
    "    \n",
    "    return ll1\n",
    "\n",
    "\n",
    "def setup_test(yn,xn):\n",
    "    lls = []\n",
    "    grads = []\n",
    "    hesss = []\n",
    "    params = []                \n",
    "    for i in range(xn.shape[1]):\n",
    "        ll = setup_model(yn,xn[:,i])\n",
    "        lls.append(ll)\n",
    "    \n",
    "    return np.array(lls)\n",
    "\n",
    "def compute_test_stat(lls):\n",
    "    k = lls.shape[0]\n",
    "    n = lls.shape[1]\n",
    "    \n",
    "    #setup stuff..\n",
    "    theta = lls.mean(axis=1).reshape((k,1)) \n",
    "    V = np.cov(lls)\n",
    "    \n",
    "    # linear restrictions\n",
    "    R = np.identity(k-1)\n",
    "    R = np.concatenate( (-1*np.ones( (k-1,1) ),R),axis=1 )\n",
    "    \n",
    "    #compute the wald statistic\n",
    "    Rtheta = R.dot(theta)\n",
    "    RVR_inv = np.linalg.inv(R.dot(V).dot(R.transpose())/n)\n",
    "    return (Rtheta.transpose()).dot(RVR_inv).dot(Rtheta)[0,0]\n",
    "    \n",
    "    \n",
    "yn,xn,nobs = gen_data(nobs=1000, a=1.0, num_params=4)\n",
    "lls = setup_test(yn,xn)\n",
    "compute_test_stat(lls)"
   ]
  },
  {
   "cell_type": "code",
   "execution_count": 27,
   "id": "0f8f6b93",
   "metadata": {},
   "outputs": [
    {
     "name": "stdout",
     "output_type": "stream",
     "text": [
      "[0.   0.96 0.04 0.  ]\n"
     ]
    }
   ],
   "source": [
    "def order_lls(lls):\n",
    "    k = lls.shape[0]\n",
    "    means = lls.mean(axis=1).reshape((k,1)) \n",
    "    return lls[means[:, 0].argsort()]\n",
    "\n",
    "\n",
    "def recursive_test(lls):\n",
    "    \"\"\"lls must be ordered for this to work\"\"\"\n",
    "    test_stat = compute_test_stat(lls)\n",
    "    critical_value = stats.chi2.ppf(.95,lls.shape[0]-1)\n",
    "    reject_null = test_stat >= critical_value\n",
    "\n",
    "    result  = [(reject_null, lls.shape[0])]\n",
    "    if reject_null and lls.shape[0] > 2 :\n",
    "        stat1 = recursive_test(lls[0:-1,:])\n",
    "        stat2 = recursive_test(lls[1:,:])\n",
    "        result.append(stat1)\n",
    "        result.append(stat2)\n",
    "    return result\n",
    "\n",
    "\n",
    "def gen_data_new(nobs=1000, a=1.0, num_params=4):\n",
    "    x = np.random.normal(scale=1., size=(nobs,num_params))\n",
    "    e = np.random.normal(loc=0.0, scale=1.0, size=nobs)\n",
    "    y = 1 + 2*x[:,0] + a*x[:,1:].sum(axis=1) + e\n",
    "    return y,x,nobs\n",
    "\n",
    "\n",
    "def parse_result(result):\n",
    "    level = 0\n",
    "    if len(result) == 1:\n",
    "        pass\n",
    "    if len(result) == 2:\n",
    "        stat1 = parse_result(result[1])\n",
    "        level = level + 1 + stat1\n",
    "    if len(result) == 3:\n",
    "        stat1 = parse_result(result[1])\n",
    "        stat2 = parse_result(result[1])\n",
    "        level = level + 1 + max(stat1,stat2)\n",
    "    return level\n",
    "    \n",
    "\n",
    "def monte_carlo(k=4,trials=10):\n",
    "    #check size of first test...\n",
    "    rejects = np.array([0]*(k-1))\n",
    "    # the index in the array refers to the stage when the test gets cut off\n",
    "    for i in range(trials):\n",
    "        yn,xn,nobs = gen_data_new(nobs=500, a=1.0, num_params=k)\n",
    "        lls = setup_test(yn,xn)\n",
    "        lls_ordered = order_lls(lls)\n",
    "        test_result = recursive_test(lls_ordered)\n",
    "        stop_point = parse_result(test_result)\n",
    "        rejects[stop_point] = rejects[stop_point] +1\n",
    "        \n",
    "    return rejects/trials\n",
    "\n",
    "\n",
    "print(monte_carlo(trials=100,k=5))"
   ]
  },
  {
   "cell_type": "code",
   "execution_count": 6,
   "id": "685c6e32",
   "metadata": {},
   "outputs": [],
   "source": [
    "def plot_true2(gen_data,setup_test,trials=500):\n",
    "    \n",
    "    llr_stats = []\n",
    "    num_params=0\n",
    "    for i in range(trials):\n",
    "        yn, xn,nobs = gen_data()\n",
    "        llrs = setup_test(yn,xn)\n",
    "        llr = compute_test_stat(llrs)\n",
    "        llr_stats.append(llr)\n",
    "        num_params = xn.shape[1]\n",
    "    \n",
    "    plt.hist(llr_stats, density=True,bins=15, label=\"True\",alpha=.60)\n",
    "    #chi sq\n",
    "    chi_sq = np.random.normal(loc=0.0, scale=1.0, size=(num_params-1,1000))\n",
    "    chi_sq = (chi_sq**2).sum(axis=0)\n",
    "    plt.hist(chi_sq, density=True,bins=15, label=(\"Chi-sq %s\"%(num_params-1)),alpha=.60)\n",
    "    \n",
    "    #draw plot with actual cdf?\n",
    "    x = np.linspace(stats.chi2.ppf(0.01, num_params-1), stats.chi2.ppf(0.995, num_params-1), 100)\n",
    "    plt.plot(x, stats.chi2.pdf(x, num_params-1), 'r-', lw=5, alpha=0.6, label='chi2 pdf')\n",
    "    \n",
    "    plt.legend()\n",
    "    plt.savefig('k' + str(num_params) +'.png',dpi=500)\n",
    "    plt.show()\n",
    "    return llr_stats"
   ]
  },
  {
   "cell_type": "markdown",
   "id": "c312dd9b",
   "metadata": {},
   "source": [
    "# K = 4"
   ]
  },
  {
   "cell_type": "code",
   "execution_count": 7,
   "id": "b97809b5",
   "metadata": {},
   "outputs": [
    {
     "data": {
      "image/png": "[encoded data removed]",
      "text/plain": [
       "<Figure size 432x288 with 1 Axes>"
      ]
     },
     "metadata": {
      "needs_background": "light"
     },
     "output_type": "display_data"
    }
   ],
   "source": [
    "gen_data_ex = lambda : gen_data(nobs=1000, a=1.0, num_params=4)\n",
    "\n",
    "llr_stats = plot_true2(gen_data_ex,setup_test)"
   ]
  },
  {
   "cell_type": "code",
   "execution_count": null,
   "id": "891b6dfa",
   "metadata": {},
   "outputs": [],
   "source": []
  },
  {
   "cell_type": "code",
   "execution_count": null,
   "id": "cfc5c9a6",
   "metadata": {},
   "outputs": [],
   "source": []
  }
 ],
 "metadata": {
  "kernelspec": {
   "display_name": "Python 3",
   "language": "python",
   "name": "python3"
  },
  "language_info": {
   "codemirror_mode": {
    "name": "ipython",
    "version": 3
   },
   "file_extension": ".py",
   "mimetype": "text/x-python",
   "name": "python",
   "nbconvert_exporter": "python",
   "pygments_lexer": "ipython3",
   "version": "3.8.8"
  }
 },
 "nbformat": 4,
 "nbformat_minor": 5
}
