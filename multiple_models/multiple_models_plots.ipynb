{
 "cells": [
  {
   "cell_type": "code",
   "execution_count": 1,
   "id": "5023a4d1",
   "metadata": {},
   "outputs": [],
   "source": [
    "%load_ext autoreload\n",
    "%autoreload 2\n",
    "\n",
    "import numpy as np\n",
    "import scipy.stats as stats\n",
    "import scipy.special\n",
    "#graphing\n",
    "import matplotlib.pyplot as plt\n",
    "#stats\n",
    "import statsmodels.api as sm\n",
    "from statsmodels.base.model import GenericLikelihoodModel\n",
    "\n",
    "#import testing\n",
    "import sys\n",
    "sys.path.append(\"../\")\n",
    "import vuong_tests5"
   ]
  },
  {
   "cell_type": "code",
   "execution_count": 2,
   "id": "c0009daa",
   "metadata": {},
   "outputs": [],
   "source": [
    "class OLS_loglike(GenericLikelihoodModel):\n",
    "    \n",
    "    def __init__(self, *args,ols=False, **kwargs):\n",
    "        super(OLS_loglike,self).__init__(*args,**kwargs)\n",
    "        self.ols = ols\n",
    "\n",
    "    def loglikeobs(self, params):\n",
    "        y = self.endog\n",
    "        x = self.exog\n",
    "        mu_y = np.matmul(x,params)  \n",
    "        resid = y - mu_y\n",
    "        sigma = np.sqrt(np.sum(resid**2)/resid.shape[0])\n",
    "        pr_y = stats.norm.logpdf( resid, loc=0,scale=sigma )\n",
    "        return pr_y"
   ]
  },
  {
   "cell_type": "code",
   "execution_count": 3,
   "id": "01eb018b",
   "metadata": {},
   "outputs": [],
   "source": [
    "def gen_data(nobs=1000, a=0.25, num_params=4):\n",
    "    x = np.random.normal(scale=1., size=(nobs,num_params))\n",
    "    e = np.random.normal(loc=0.0, scale=1.0, size=nobs)\n",
    "    y = 1 + a*x.sum(axis=1) + e\n",
    "    return y,x,nobs"
   ]
  },
  {
   "cell_type": "code",
   "execution_count": 4,
   "id": "a64c168d",
   "metadata": {},
   "outputs": [],
   "source": [
    "def setup_model(yn,xn):\n",
    "    \"\"\"setup models for ease\"\"\"\n",
    "    model1 = sm.OLS(yn,sm.add_constant(xn))\n",
    "    model1_fit = model1.fit(disp=False)\n",
    "    params1 = (model1_fit.params)\n",
    "    model1_deriv = OLS_loglike(yn,sm.add_constant(xn))\n",
    "    ll1 = model1_deriv.loglikeobs(model1_fit.params)\n",
    "    grad1 =  model1_deriv.score_obs(model1_fit.params)    \n",
    "    hess1 = model1_deriv.hessian(model1_fit.params)\n",
    "    return ll1,grad1,hess1,params1\n",
    "\n",
    "\n",
    "def setup_test(yn,xn):\n",
    "    lls = []\n",
    "    grads = []\n",
    "    hesss = []\n",
    "    params = []                \n",
    "    for i in range(xn.shape[1]):\n",
    "        ll,grad,hess,param = setup_model(yn,xn[:,i])\n",
    "        lls.append(ll)\n",
    "        grads.append(grad)\n",
    "        hesss.append(hess)\n",
    "        params.append(param)\n",
    "    \n",
    "    #determine 1 and 2\n",
    "    lls_sum = np.array(lls).sum(axis=1)\n",
    "    lls_sorted = lls_sum.copy()\n",
    "    lls_sorted.sort()\n",
    "    ind1,ind2 = lls_sorted[-2:]\n",
    "    ind1 = (lls_sum == ind1).argmax()\n",
    "    ind2 = (lls_sum == ind2).argmax()\n",
    "    #np.random.seed()\n",
    "    #coin_flip = np.random.randint(0, 2)\n",
    "    #if coin_flip > 0:\n",
    "    #    ind_replace  =ind1\n",
    "    #    ind1 = ind2\n",
    "    #    ind2 = ind_replace\n",
    "    \n",
    "    return lls[ind1],grads[ind1],hesss[ind1],params[ind1], lls[ind2],grads[ind2],hesss[ind2],params[ind2]\n",
    "\n",
    "yn,xn,nobs = gen_data()\n",
    "ll1,grad1,hess1,params1,ll2,grad2,hess2,params2 = setup_test(yn,xn)"
   ]
  },
  {
   "cell_type": "code",
   "execution_count": 5,
   "id": "246869f6",
   "metadata": {},
   "outputs": [],
   "source": [
    "def plot_true2(gen_data,setup_test,trials=500):\n",
    "    llr_stats=[]\n",
    "\n",
    "    for i in range(trials):\n",
    "        np.random.seed()\n",
    "        ys,xs,nobs = gen_data()\n",
    "        ll1,grad1,hess1,params1,ll2,grad2,hess2,params2 = setup_test(ys,xs)\n",
    "        \n",
    "        ##Classical test\n",
    "        V = vuong_tests5.compute_eigen2(ll1,grad1,hess1,params1,ll2, grad2,hess2,params2)\n",
    "        llr = (ll1 - ll2).sum() +V.sum()/(2)\n",
    "        omega2 = (ll1 - ll2).var() \n",
    "        nomega = np.clip( (np.sqrt(omega2*nobs)), .1,10000 )\n",
    "        llr_stats.append(llr/nomega)\n",
    "    standard_normal = np.random.normal(loc=0.0, scale=1.0, size=1000)\n",
    "    plt.hist(llr_stats, density=True,bins=15, label=\"LLR\",alpha=.60)\n",
    "    plt.hist(standard_normal, density=True,bins=15, label=\"Normal\",alpha=.60)\n",
    "    plt.legend()\n",
    "    plt.show()\n",
    "    return llr_stats\n",
    "\n",
    "\n"
   ]
  },
  {
   "cell_type": "markdown",
   "id": "c312dd9b",
   "metadata": {},
   "source": [
    "# K = 4"
   ]
  },
  {
   "cell_type": "code",
   "execution_count": 6,
   "id": "2d68c53c",
   "metadata": {
    "scrolled": false
   },
   "outputs": [
    {
     "data": {
      "image/png": "[encoded data removed]",
      "text/plain": [
       "<Figure size 432x288 with 1 Axes>"
      ]
     },
     "metadata": {
      "needs_background": "light"
     },
     "output_type": "display_data"
    }
   ],
   "source": [
    "gen_data_ex = lambda : gen_data(nobs=1000, a=0.0, num_params=4)\n",
    "llr_stats = plot_true2(gen_data_ex,setup_test)"
   ]
  },
  {
   "cell_type": "code",
   "execution_count": 7,
   "id": "482d6c09",
   "metadata": {},
   "outputs": [
    {
     "data": {
      "image/png": "[encoded data removed]",
      "text/plain": [
       "<Figure size 432x288 with 1 Axes>"
      ]
     },
     "metadata": {
      "needs_background": "light"
     },
     "output_type": "display_data"
    }
   ],
   "source": [
    "gen_data_ex = lambda : gen_data(nobs=1000, a=0.25, num_params=4)\n",
    "llr_stats = plot_true2(gen_data_ex,setup_test)"
   ]
  },
  {
   "cell_type": "code",
   "execution_count": 8,
   "id": "baab5e04",
   "metadata": {},
   "outputs": [
    {
     "data": {
      "image/png": "[encoded data removed]",
      "text/plain": [
       "<Figure size 432x288 with 1 Axes>"
      ]
     },
     "metadata": {
      "needs_background": "light"
     },
     "output_type": "display_data"
    }
   ],
   "source": [
    "gen_data_ex = lambda : gen_data(nobs=1000, a=0.5, num_params=4)\n",
    "llr_stats = plot_true2(gen_data_ex,setup_test)"
   ]
  },
  {
   "cell_type": "markdown",
   "id": "32ea244e",
   "metadata": {},
   "source": [
    "# K = 9"
   ]
  },
  {
   "cell_type": "code",
   "execution_count": 9,
   "id": "1165b45e",
   "metadata": {},
   "outputs": [
    {
     "data": {
      "image/png": "[encoded data removed]",
      "text/plain": [
       "<Figure size 432x288 with 1 Axes>"
      ]
     },
     "metadata": {
      "needs_background": "light"
     },
     "output_type": "display_data"
    }
   ],
   "source": [
    "gen_data_ex = lambda : gen_data(nobs=1000, a=0.0, num_params=9)\n",
    "llr_stats = plot_true2(gen_data_ex,setup_test)"
   ]
  },
  {
   "cell_type": "code",
   "execution_count": 10,
   "id": "ff02ab4d",
   "metadata": {},
   "outputs": [
    {
     "data": {
      "image/png": "[encoded data removed]",
      "text/plain": [
       "<Figure size 432x288 with 1 Axes>"
      ]
     },
     "metadata": {
      "needs_background": "light"
     },
     "output_type": "display_data"
    }
   ],
   "source": [
    "gen_data_ex = lambda : gen_data(nobs=1000, a=0.25, num_params=9)\n",
    "llr_stats = plot_true2(gen_data_ex,setup_test)"
   ]
  },
  {
   "cell_type": "code",
   "execution_count": 11,
   "id": "98e8bf59",
   "metadata": {},
   "outputs": [
    {
     "data": {
      "image/png": "[encoded data removed]",
      "text/plain": [
       "<Figure size 432x288 with 1 Axes>"
      ]
     },
     "metadata": {
      "needs_background": "light"
     },
     "output_type": "display_data"
    }
   ],
   "source": [
    "gen_data_ex = lambda : gen_data(nobs=1000, a=0.5, num_params=9)\n",
    "llr_stats = plot_true2(gen_data_ex,setup_test)"
   ]
  },
  {
   "cell_type": "markdown",
   "id": "236ad5b4",
   "metadata": {},
   "source": [
    "# K = 19"
   ]
  },
  {
   "cell_type": "code",
   "execution_count": 12,
   "id": "7901c395",
   "metadata": {},
   "outputs": [
    {
     "data": {
      "image/png": "[encoded data removed]",
      "text/plain": [
       "<Figure size 432x288 with 1 Axes>"
      ]
     },
     "metadata": {
      "needs_background": "light"
     },
     "output_type": "display_data"
    }
   ],
   "source": [
    "gen_data_ex = lambda : gen_data(nobs=1000, a=0.0, num_params=19)\n",
    "llr_stats = plot_true2(gen_data_ex,setup_test)"
   ]
  },
  {
   "cell_type": "code",
   "execution_count": 13,
   "id": "d99f2d35",
   "metadata": {},
   "outputs": [
    {
     "data": {
      "image/png": "[encoded data removed]",
      "text/plain": [
       "<Figure size 432x288 with 1 Axes>"
      ]
     },
     "metadata": {
      "needs_background": "light"
     },
     "output_type": "display_data"
    }
   ],
   "source": [
    "gen_data_ex = lambda : gen_data(nobs=1000, a=0.25, num_params=19)\n",
    "llr_stats = plot_true2(gen_data_ex,setup_test)"
   ]
  },
  {
   "cell_type": "code",
   "execution_count": 14,
   "id": "bc8155af",
   "metadata": {},
   "outputs": [
    {
     "data": {
      "image/png": "[encoded data removed]",
      "text/plain": [
       "<Figure size 432x288 with 1 Axes>"
      ]
     },
     "metadata": {
      "needs_background": "light"
     },
     "output_type": "display_data"
    }
   ],
   "source": [
    "gen_data_ex = lambda : gen_data(nobs=1000, a=0.5, num_params=19)\n",
    "llr_stats = plot_true2(gen_data_ex,setup_test)"
   ]
  },
  {
   "cell_type": "code",
   "execution_count": null,
   "id": "f271eb9d",
   "metadata": {},
   "outputs": [],
   "source": []
  },
  {
   "cell_type": "code",
   "execution_count": null,
   "id": "52ef5b54",
   "metadata": {},
   "outputs": [],
   "source": []
  }
 ],
 "metadata": {
  "kernelspec": {
   "display_name": "Python 3",
   "language": "python",
   "name": "python3"
  },
  "language_info": {
   "codemirror_mode": {
    "name": "ipython",
    "version": 3
   },
   "file_extension": ".py",
   "mimetype": "text/x-python",
   "name": "python",
   "nbconvert_exporter": "python",
   "pygments_lexer": "ipython3",
   "version": "3.8.8"
  }
 },
 "nbformat": 4,
 "nbformat_minor": 5
}
