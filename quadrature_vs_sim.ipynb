{
 "cells": [
  {
   "cell_type": "code",
   "execution_count": 6,
   "id": "d528125f",
   "metadata": {},
   "outputs": [],
   "source": [
    "import numpy as np\n",
    "import matplotlib.pyplot as plt\n",
    "import statsmodels.api as sm\n",
    "from statsmodels.base.model import GenericLikelihoodModel\n",
    "import scipy.stats as stats\n",
    "\n",
    "from scipy import integrate"
   ]
  },
  {
   "cell_type": "code",
   "execution_count": 7,
   "id": "b511bef5",
   "metadata": {},
   "outputs": [],
   "source": [
    "def gen_data(nobs=1000):\n",
    "    np.random.seed()\n",
    "    beta = 3\n",
    "    x = np.random.uniform(low=-1., high=1., size=nobs)\n",
    "    e = np.random.normal(loc=0.0, scale=1.0, size=nobs) #uniform(low=-1., high=1., size=nobs)  #(loc=0.0, scale=1.0, size=nobs) ##\n",
    "    y = 1*( beta * x + e >= 0) \n",
    "    return y,x,nobs"
   ]
  },
  {
   "cell_type": "code",
   "execution_count": 20,
   "id": "49f50059",
   "metadata": {},
   "outputs": [
    {
     "name": "stdout",
     "output_type": "stream",
     "text": [
      "[3.155]\n"
     ]
    },
    {
     "name": "stderr",
     "output_type": "stream",
     "text": [
      "/home/erichschulman/anaconda3/lib/python3.8/site-packages/statsmodels/base/model.py:547: HessianInversionWarning: Inverting hessian failed, no bse or cov_params available\n",
      "  warnings.warn('Inverting hessian failed, no bse or cov_params '\n"
     ]
    }
   ],
   "source": [
    "class ProbitSim(GenericLikelihoodModel):\n",
    "    \n",
    "    def __init__(self, *args, nsims=100, **kwargs):\n",
    "        super(ProbitSim,self).__init__(*args,**kwargs)\n",
    "        self.nsims = nsims\n",
    "\n",
    "    def loglikeobs(self, params):\n",
    "        y = self.endog\n",
    "        x = self.exog\n",
    "        nobs = x.shape[0]\n",
    "        \n",
    "        mu_y = np.matmul(x,params) \n",
    "        \n",
    "        np.random.seed(0)\n",
    "        e = np.random.normal(loc=0.0, scale=1.0, size=self.nsims)\n",
    "        e = np.tile(e,nobs).reshape(nobs,self.nsims)\n",
    "        mu_y = np.repeat(mu_y,self.nsims).reshape(nobs,self.nsims)\n",
    "        \n",
    "        pr1 = (mu_y + e > 0).mean(axis=1) \n",
    "        return y*np.log(pr1+ 1e-10) + (1-y)*np.log(1-pr1+ 1e-10)\n",
    "    \n",
    "\n",
    "    \n",
    "yn,xn,nobs = gen_data(nobs=100)\n",
    "model1 = ProbitSim(yn,xn,nsims=98)\n",
    "model1_fit = model1.fit(disp=False)\n",
    "params1 = model1_fit.params\n",
    "print(params1)"
   ]
  },
  {
   "cell_type": "code",
   "execution_count": 21,
   "id": "64a9bbb0",
   "metadata": {},
   "outputs": [
    {
     "name": "stdout",
     "output_type": "stream",
     "text": [
      "[0.175]\n"
     ]
    },
    {
     "name": "stderr",
     "output_type": "stream",
     "text": [
      "/home/erichschulman/anaconda3/lib/python3.8/site-packages/statsmodels/base/model.py:547: HessianInversionWarning: Inverting hessian failed, no bse or cov_params available\n",
      "  warnings.warn('Inverting hessian failed, no bse or cov_params '\n"
     ]
    }
   ],
   "source": [
    "class ProbitQuad(GenericLikelihoodModel):\n",
    "    \n",
    "    def __init__(self, *args,nsims=100, **kwargs):\n",
    "        super(ProbitQuad,self).__init__(*args,**kwargs)\n",
    "        self.nsims = nsims\n",
    "\n",
    "    def loglikeobs(self, params):\n",
    "        y = self.endog\n",
    "        x = self.exog\n",
    "        nobs = x.shape[0]\n",
    "        mu_y = np.matmul(x,params)  \n",
    "        \n",
    "        #with quadrature... draws are on a grid\n",
    "        e = np.linspace(-10,10,self.nsims)\n",
    "        e = np.tile(e,nobs).reshape(nobs,self.nsims)\n",
    "        \n",
    "        #evaluate nims times\n",
    "        mu_y = np.repeat(mu_y,self.nsims).reshape(nobs,self.nsims)\n",
    "        f = stats.norm.pdf(e) #need to weight based on y\n",
    "        pr1 = ((mu_y + e > 0)*f).mean(axis=1) \n",
    "        \n",
    "        return y*np.log(pr1+ 1e-10) + (1-y)*np.log(1-pr1+ 1e-10)\n",
    "\n",
    "    \n",
    "yn,xn,nobs = gen_data(nobs=100)\n",
    "model1 = ProbitQuad(yn,xn,nsims=98)\n",
    "model1_fit = model1.fit(disp=False)\n",
    "params1 = model1_fit.params\n",
    "print(params1)"
   ]
  },
  {
   "cell_type": "code",
   "execution_count": 24,
   "id": "3862d9ba",
   "metadata": {},
   "outputs": [],
   "source": [
    "def setup_model(yn,xn,model,nsims):\n",
    "    \"\"\"setup models for ease\"\"\"\n",
    "    model1 = model(yn,xn,nsims=nsims)\n",
    "    model1_fit = model1.fit(disp=False)\n",
    "    params1 = model1_fit.params\n",
    "    ll1 = model1.loglikeobs(params1)\n",
    "    return ll1\n",
    "\n",
    "def setup_test(xn,yn,nsims=100):\n",
    "    ll1 = setup_model(yn,xn,ProbitSim,nsims)\n",
    "    ll2 = setup_model(yn,xn,ProbitQuad,nsims)\n",
    "    return ll1 - ll2\n",
    "\n",
    "\n",
    "def standardize(array):\n",
    "    \"\"\"divide by variance, multiple by sqrt(n)\"\"\"\n",
    "    array = np.array(array)\n",
    "    return np.sqrt(len(array))*array.mean()/array.std()\n",
    "\n",
    "\n",
    "\n",
    "\n",
    "yn,xn,nobs = gen_data()\n",
    "llr = setup_test(xn,yn)"
   ]
  },
  {
   "cell_type": "code",
   "execution_count": 27,
   "id": "cae797c9",
   "metadata": {
    "scrolled": true
   },
   "outputs": [
    {
     "name": "stdout",
     "output_type": "stream",
     "text": [
      "1.3450069041265615\n",
      "8.047784260232977\n"
     ]
    },
    {
     "data": {
      "image/png": "[encoded data removed]",
      "text/plain": [
       "<Figure size 432x288 with 1 Axes>"
      ]
     },
     "metadata": {
      "needs_background": "light"
     },
     "output_type": "display_data"
    }
   ],
   "source": [
    "import warnings\n",
    "\n",
    "def monte_carlo(n_trials=100,nsims=100,nobs=100):\n",
    "    n_trials = 1000\n",
    "    llrs = []\n",
    "    for i in range(n_trials):\n",
    "        with warnings.catch_warnings():\n",
    "            warnings.simplefilter(\"ignore\")\n",
    "            yn,xn,nobs = gen_data(nobs=nobs)\n",
    "            llr = standardize(setup_test(xn,yn,nsims=nsims))\n",
    "            llrs.append(llr)\n",
    "    return np.array(llrs)\n",
    "\n",
    "\n",
    "llrs= monte_carlo()\n",
    "plt.hist(llrs)\n",
    "print(llrs.var())\n",
    "print(llrs.mean())"
   ]
  },
  {
   "cell_type": "code",
   "execution_count": 28,
   "id": "ae567696",
   "metadata": {},
   "outputs": [
    {
     "name": "stdout",
     "output_type": "stream",
     "text": [
      "1.3309742697106854\n",
      "8.023844051374565\n",
      "1.316028323067263\n",
      "9.671593513657848\n",
      "1.1354711362013503\n",
      "11.301350872770014\n"
     ]
    },
    {
     "data": {
      "image/png": "[encoded data removed]",
      "text/plain": [
       "<Figure size 432x288 with 1 Axes>"
      ]
     },
     "metadata": {
      "needs_background": "light"
     },
     "output_type": "display_data"
    }
   ],
   "source": [
    "for i in [1,1.5,2]:\n",
    "    llrs = monte_carlo(nobs= int(100*i), nsims = int(100*i))\n",
    "    plt.hist(llrs,alpha=.5,label='n=' + str( int(i*100) ) )\n",
    "    print(llrs.var())\n",
    "    print(llrs.mean())\n",
    "    \n",
    "plt.legend()\n",
    "plt.savefig('consist_quad.png',dpi=300)\n",
    "plt.show()"
   ]
  },
  {
   "cell_type": "code",
   "execution_count": null,
   "id": "70db58a5",
   "metadata": {},
   "outputs": [],
   "source": []
  },
  {
   "cell_type": "code",
   "execution_count": null,
   "id": "0a0128cd",
   "metadata": {},
   "outputs": [],
   "source": []
  }
 ],
 "metadata": {
  "kernelspec": {
   "display_name": "Python 3",
   "language": "python",
   "name": "python3"
  },
  "language_info": {
   "codemirror_mode": {
    "name": "ipython",
    "version": 3
   },
   "file_extension": ".py",
   "mimetype": "text/x-python",
   "name": "python",
   "nbconvert_exporter": "python",
   "pygments_lexer": "ipython3",
   "version": "3.8.8"
  }
 },
 "nbformat": 4,
 "nbformat_minor": 5
}
