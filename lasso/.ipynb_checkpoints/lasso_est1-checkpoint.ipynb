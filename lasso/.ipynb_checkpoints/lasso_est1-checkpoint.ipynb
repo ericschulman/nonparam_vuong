{
 "cells": [
  {
   "cell_type": "code",
   "execution_count": 1,
   "id": "aa95ebba",
   "metadata": {},
   "outputs": [],
   "source": [
    "import pandas as pd\n",
    "import numpy as np\n",
    "import statsmodels.api as sm"
   ]
  },
  {
   "cell_type": "code",
   "execution_count": 2,
   "id": "12bb913d",
   "metadata": {},
   "outputs": [],
   "source": [
    "# Generating 'fake' data\n",
    "def gen_data(nobs=1000):\n",
    "    x_1 = np.random.normal(scale=1., size=(nobs))\n",
    "    x_2 = np.random.normal(scale=1., size=(nobs))\n",
    "    e = np.random.normal(loc=0.0, scale=1.0, size=nobs)\n",
    "    y = x_1 + e\n",
    "    return y, x_1, x_2\n",
    "y, x_1, x_2 = gen_data(nobs=1000)"
   ]
  },
  {
   "cell_type": "code",
   "execution_count": 3,
   "id": "b045655d",
   "metadata": {},
   "outputs": [
    {
     "name": "stdout",
     "output_type": "stream",
     "text": [
      "(array([0.88497668, 0.        ]), array([ 0.89602348, -0.01312027]), 1.0455678093797538, 1.0432726868672977)\n"
     ]
    }
   ],
   "source": [
    "# Setup test\n",
    "def setup_test(y, x_1, x_2):\n",
    "    X = np.column_stack((x_1, x_2))\n",
    "    lasso = sm.OLS(y, X).fit_regularized(method='elastic_net', alpha=0.1, L1_wt=1.0)\n",
    "    ridge = sm.OLS(y, X).fit_regularized(method='elastic_net', alpha=0.1, L1_wt=0.0)\n",
    "    lasso_mse = np.mean((lasso.model.endog-lasso.fittedvalues)**2)\n",
    "    ridge_mse = np.mean((ridge.model.endog-ridge.fittedvalues)**2) \n",
    "    return lasso.params, ridge.params, lasso_mse, ridge_mse\n",
    "print(setup_test(y, x_1, x_2))"
   ]
  },
  {
   "cell_type": "code",
   "execution_count": null,
   "id": "e05e281d",
   "metadata": {},
   "outputs": [],
   "source": [
    "# Scatterplots\n",
    "\"\"\"4. Make a scatter plot with the coefficients, ideally they are similar.\n",
    "- The x axis should have 2 ticks, x_1 and x_2\n",
    "- The y axis should plot the estimated coefficient on each variable.\n",
    "- Also, print the estimated coefficient on x_1\"\"\""
   ]
  }
 ],
 "metadata": {
  "kernelspec": {
   "display_name": "Python 3",
   "language": "python",
   "name": "python3"
  },
  "language_info": {
   "codemirror_mode": {
    "name": "ipython",
    "version": 3
   },
   "file_extension": ".py",
   "mimetype": "text/x-python",
   "name": "python",
   "nbconvert_exporter": "python",
   "pygments_lexer": "ipython3",
   "version": "3.8.8"
  }
 },
 "nbformat": 4,
 "nbformat_minor": 5
}
