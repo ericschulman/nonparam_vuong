{
 "cells": [
  {
   "cell_type": "code",
   "execution_count": null,
   "id": "aa95ebba",
   "metadata": {},
   "outputs": [],
   "source": [
    "import pandas as pd\n",
    "import numpy as np\n",
    "import matplotlib.pyplot as plt\n",
    "import statsmodels.api as sm\n",
    "from scipy import stats\n",
    "import math"
   ]
  },
  {
   "cell_type": "code",
   "execution_count": null,
   "id": "12bb913d",
   "metadata": {
    "scrolled": false
   },
   "outputs": [],
   "source": [
    "# Generating 'fake' data\n",
    "def gen_data(nobs, num_cov):\n",
    "    x_1 = np.random.normal(scale=1., size=(nobs))\n",
    "    x_2 = np.random.normal(scale=1., size=(nobs, num_cov))\n",
    "    e = np.random.normal(loc=0.0, scale=1.0, size=nobs)\n",
    "    y = x_1 + e\n",
    "    return y, x_1, x_2"
   ]
  },
  {
   "cell_type": "code",
   "execution_count": null,
   "id": "b045655d",
   "metadata": {},
   "outputs": [],
   "source": [
    "# Setup test\n",
    "def setup_test_params(y, x_1, x_2):\n",
    "    X = np.column_stack((x_1, x_2))\n",
    "    ols = sm.OLS(y, X).fit()\n",
    "    lasso = sm.OLS(y, X).fit_regularized(method='elastic_net', alpha=0.1, L1_wt=1.0)\n",
    "    ridge = sm.OLS(y, X).fit_regularized(method='elastic_net', alpha=0.1, L1_wt=0.0)\n",
    "    return ols, ridge, lasso "
   ]
  },
  {
   "cell_type": "code",
   "execution_count": null,
   "id": "e05e281d",
   "metadata": {},
   "outputs": [],
   "source": [
    "# Scatterplots\n",
    "def params_scatterplot(x):\n",
    "    for model in list(setup_test_params(y, x_1, x_2)):\n",
    "        plt.scatter(range(len(model.params)), model.params)\n",
    "        plt.legend(['ols', 'ridge', 'lasso'])"
   ]
  },
  {
   "cell_type": "code",
   "execution_count": null,
   "id": "81c9888b",
   "metadata": {},
   "outputs": [],
   "source": [
    "# MSE\n",
    "def setup_test_mse(y, x_1, x_2, k):\n",
    "    y, x_1, x_2 = gen_data(nobs=1000, num_cov=k)\n",
    "    X = np.column_stack((x_1, x_2))\n",
    "    ols = sm.OLS(y, X).fit()\n",
    "    lasso = sm.OLS(y, X).fit_regularized(method='elastic_net', alpha=0.1, L1_wt=1.0)\n",
    "    ridge = sm.OLS(y, X).fit_regularized(method='elastic_net', alpha=0.1, L1_wt=0.0)\n",
    "    ols_mse = np.mean((ols.model.endog-ols.fittedvalues)**2) \n",
    "    lasso_mse = np.mean((lasso.model.endog-lasso.fittedvalues)**2)\n",
    "    ridge_mse = np.mean((ridge.model.endog-ridge.fittedvalues)**2) \n",
    "    return ols_mse, lasso_mse, ridge_mse"
   ]
  },
  {
   "cell_type": "code",
   "execution_count": null,
   "id": "b98487f8",
   "metadata": {},
   "outputs": [],
   "source": [
    "# Calculate MSEs\n",
    "def mse(lst):\n",
    "    df = pd.DataFrame(lst, columns=['ols_mse', 'lasso_mse', 'ridge_mse'])\n",
    "    df['diff_ols_lasso'] = df['ols_mse'] - df['lasso_mse']\n",
    "    df['diff_ols_ridge'] = df['ols_mse'] - df['ridge_mse']\n",
    "    df['diff_lasso_ridge'] = df['ridge_mse'] - df['lasso_mse']\n",
    "    lst_cols = ['diff_ols_lasso','diff_ols_ridge','diff_lasso_ridge']\n",
    "    for i in lst_cols:\n",
    "        sd = df[i].std()\n",
    "        df[i] = -1*df[i]/sd * math.sqrt(1000)\n",
    "    plt.hist(df['diff_ols_lasso'],label='diff_ols_lasso')\n",
    "    plt.hist(df['diff_ols_ridge'],label='diff_ols_ridge')\n",
    "    plt.hist(df['diff_lasso_ridge'],label='diff_lasso_ridge')\n",
    "    plt.legend()\n",
    "    plt.show()"
   ]
  },
  {
   "cell_type": "code",
   "execution_count": null,
   "id": "d0b2f0ba",
   "metadata": {},
   "outputs": [],
   "source": [
    "# num_cov = 1\n",
    "k = 1\n",
    "y, x_1, x_2 = gen_data(nobs=1000, num_cov=k)\n",
    "x = setup_test_params(y, x_1, x_2)\n",
    "params_scatterplot(x)"
   ]
  },
  {
   "cell_type": "code",
   "execution_count": null,
   "id": "7086f232",
   "metadata": {},
   "outputs": [],
   "source": [
    "lst = []\n",
    "for i in range(1000):\n",
    "    results = setup_test_mse(y, x_1, x_2, k)\n",
    "    lst.append(results)\n",
    "mse(lst)"
   ]
  },
  {
   "cell_type": "code",
   "execution_count": null,
   "id": "5d0815d7",
   "metadata": {},
   "outputs": [],
   "source": [
    "# num_cov = 10\n",
    "k = 10\n",
    "y, x_1, x_2 = gen_data(nobs=1000, num_cov=k)\n",
    "x = setup_test_params(y, x_1, x_2)\n",
    "params_scatterplot(x)"
   ]
  },
  {
   "cell_type": "code",
   "execution_count": null,
   "id": "cb56d984",
   "metadata": {},
   "outputs": [],
   "source": [
    "lst = []\n",
    "for i in range(1000):\n",
    "    results = setup_test_mse(y, x_1, x_2, k)\n",
    "    lst.append(results)\n",
    "mse(lst)"
   ]
  },
  {
   "cell_type": "code",
   "execution_count": null,
   "id": "21dcc594",
   "metadata": {},
   "outputs": [],
   "source": []
  },
  {
   "cell_type": "code",
   "execution_count": null,
   "id": "2bac15d6",
   "metadata": {},
   "outputs": [],
   "source": []
  },
  {
   "cell_type": "code",
   "execution_count": null,
   "id": "c294a60c",
   "metadata": {},
   "outputs": [],
   "source": []
  }
 ],
 "metadata": {
  "kernelspec": {
   "display_name": "Python 3",
   "language": "python",
   "name": "python3"
  },
  "language_info": {
   "codemirror_mode": {
    "name": "ipython",
    "version": 3
   },
   "file_extension": ".py",
   "mimetype": "text/x-python",
   "name": "python",
   "nbconvert_exporter": "python",
   "pygments_lexer": "ipython3",
   "version": "3.8.8"
  }
 },
 "nbformat": 4,
 "nbformat_minor": 5
}
