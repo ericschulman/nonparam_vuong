{
 "cells": [
  {
   "cell_type": "code",
   "execution_count": 12,
   "id": "e5ad7fd8",
   "metadata": {},
   "outputs": [],
   "source": [
    "import numpy as np\n",
    "import matplotlib.pyplot as plt"
   ]
  },
  {
   "cell_type": "code",
   "execution_count": 13,
   "id": "f161299d",
   "metadata": {},
   "outputs": [],
   "source": [
    "k= 10\n",
    "n = 1000\n",
    "\n",
    "#1  =  1/(1+x)^2 + m*x^2/(1+x)^2 solve for x\n",
    "#http://www.few.vu.nl/~wvanwie/Courses/HighdimensionalDataAnalysis/WNvanWieringen_HDDA_Lecture234_RidgeRegression_20182019.pdf\n",
    "\n",
    "m = 5\n",
    "alpha = 1/12 #?\n",
    "#alpha = k/m? minimizes?\n",
    "\n",
    "X = np.random.normal(size=(n,k))\n",
    "E = np.random.normal(size=(n,1))\n",
    "Y = m*X.sum(axis=1).reshape(n,1) + E\n",
    "\n",
    "X0 = np.random.normal(size=(n,k))\n",
    "E0 = np.random.normal(size=(n,1))\n",
    "Y0 = m*X0.sum(axis=1).reshape(n,1) + E0"
   ]
  },
  {
   "cell_type": "code",
   "execution_count": 14,
   "id": "7274ed25",
   "metadata": {},
   "outputs": [
    {
     "name": "stdout",
     "output_type": "stream",
     "text": [
      "[1.00221825]\n",
      "[151.57890556]\n",
      "0.01028048174128047\n"
     ]
    }
   ],
   "source": [
    "XX = (X.T).dot(X)\n",
    "beta = np.linalg.inv( XX ).dot( X.T ).dot(Y)\n",
    "Px0 = X0.dot( np.linalg.inv( XX  ) ).dot( X0.T )\n",
    "\n",
    "\n",
    "#MSE in sample of ols predictor?\n",
    "E_hat0 = Y0 - X0.dot(beta)\n",
    "print(   E_hat0.T.dot(E_hat0)[0]/n )\n",
    "\n",
    "#risk? of ols\n",
    "risk = X0.sum(axis=1).reshape(n,1) - X0.dot(beta)\n",
    "print( risk.T.dot(risk)[0]/n )\n",
    "\n",
    "#theoretical risk?\n",
    "print(np.trace(Px0)/n)"
   ]
  },
  {
   "cell_type": "code",
   "execution_count": 15,
   "id": "a069f0d2",
   "metadata": {},
   "outputs": [
    {
     "name": "stdout",
     "output_type": "stream",
     "text": [
      "[1.00209932]\n",
      "[151.54704904]\n",
      "0.010279587618099164\n"
     ]
    }
   ],
   "source": [
    "XX = (X.T).dot(X)\n",
    "beta = np.linalg.inv( XX  + alpha*np.identity(k) ).dot( X.T ).dot(Y)\n",
    "Px0 = X0.dot( np.linalg.inv( XX  + alpha*np.identity(k) ) ).dot( X0.T )\n",
    "\n",
    "\n",
    "#MSE in sample of ols predictor?\n",
    "E_hat0 = Y0 - X0.dot(beta)\n",
    "print(   E_hat0.T.dot(E_hat0)[0]/n )\n",
    "\n",
    "#risk? of ols\n",
    "risk = X0.sum(axis=1).reshape(n,1) - X0.dot(beta)\n",
    "print( risk.T.dot(risk)[0]/n )\n",
    "\n",
    "#theoretical risk?\n",
    "print(np.trace(Px0)/n)"
   ]
  },
  {
   "cell_type": "code",
   "execution_count": 17,
   "id": "56a01bc6",
   "metadata": {},
   "outputs": [
    {
     "name": "stdout",
     "output_type": "stream",
     "text": [
      "0.9962940223676339\n",
      "-0.021379226592032227\n"
     ]
    },
    {
     "data": {
      "image/png": "[encoded data removed]",
      "text/plain": [
       "<Figure size 432x288 with 1 Axes>"
      ]
     },
     "metadata": {
      "needs_background": "light"
     },
     "output_type": "display_data"
    }
   ],
   "source": [
    "def standardize(array):\n",
    "    \"\"\"divide by variance, multiple by sqrt(n)\"\"\"\n",
    "    array = np.array(array)\n",
    "    return np.sqrt(len(array))*array.mean()/array.std()\n",
    "\n",
    "n_trials = 1000\n",
    "mses = []\n",
    "for i in range(n_trials):\n",
    "    #split sample for model 1\n",
    "    X = np.random.normal(size=(n,k))\n",
    "    E = np.random.normal(size=(n,1))\n",
    "    Y = m*X.sum(axis=1).reshape(n,1) + E\n",
    "\n",
    "    \n",
    "    XX = (X.T).dot(X)\n",
    "    beta = np.linalg.inv( XX ).dot( X.T ).dot(Y)\n",
    "    \n",
    "    E_hat = Y - X.dot(beta)\n",
    "    mse = E_hat**2\n",
    "    \n",
    "    #model 2\n",
    "    X0 = np.random.normal(size=(n,k))\n",
    "    E0 = np.random.normal(size=(n,1))\n",
    "    Y0 = m*X0.sum(axis=1).reshape(n,1) + E0\n",
    "    \n",
    "    XX0 = (X0.T).dot(X0)\n",
    "    beta_r = np.linalg.inv( XX0  + alpha*np.identity(k) ).dot( X0.T ).dot(Y0)\n",
    "    \n",
    "    E_hat_r = Y0 - X0.dot(beta_r)\n",
    "    mse_r = E_hat_r**2\n",
    "     \n",
    "    mses.append( standardize(mse_r - mse) )\n",
    "    \n",
    "    \n",
    "\n",
    "mses= np.array(mses)    \n",
    "plt.hist(mses)\n",
    "print(mses.var())\n",
    "print(mses.mean())"
   ]
  },
  {
   "cell_type": "code",
   "execution_count": null,
   "id": "2a2da9cf",
   "metadata": {},
   "outputs": [],
   "source": []
  },
  {
   "cell_type": "code",
   "execution_count": null,
   "id": "bab8398f",
   "metadata": {},
   "outputs": [],
   "source": []
  },
  {
   "cell_type": "code",
   "execution_count": null,
   "id": "3f3a7a31",
   "metadata": {},
   "outputs": [],
   "source": []
  }
 ],
 "metadata": {
  "kernelspec": {
   "display_name": "Python 3",
   "language": "python",
   "name": "python3"
  },
  "language_info": {
   "codemirror_mode": {
    "name": "ipython",
    "version": 3
   },
   "file_extension": ".py",
   "mimetype": "text/x-python",
   "name": "python",
   "nbconvert_exporter": "python",
   "pygments_lexer": "ipython3",
   "version": "3.8.8"
  }
 },
 "nbformat": 4,
 "nbformat_minor": 5
}
