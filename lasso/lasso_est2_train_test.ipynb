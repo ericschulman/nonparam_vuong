{
 "cells": [
  {
   "cell_type": "code",
   "execution_count": 1,
   "id": "aa95ebba",
   "metadata": {},
   "outputs": [],
   "source": [
    "import pandas as pd\n",
    "import numpy as np\n",
    "import matplotlib.pyplot as plt\n",
    "import statsmodels.api as sm\n",
    "from scipy import stats\n",
    "import math"
   ]
  },
  {
   "cell_type": "markdown",
   "id": "cd2e32f8",
   "metadata": {},
   "source": [
    "## Plots for statistics: OLS, Lasso, Ridge, OLS_Lasso, OLS_Ridge, Lasso_Ridge"
   ]
  },
  {
   "cell_type": "code",
   "execution_count": 2,
   "id": "60b4a7dc",
   "metadata": {},
   "outputs": [
    {
     "name": "stdout",
     "output_type": "stream",
     "text": [
      "22.97967706889237\n"
     ]
    }
   ],
   "source": [
    "# Generating 'fake' data\n",
    "def gen_data(nobs, num_cov, m):\n",
    "    x_1 = np.random.normal(scale=1., size=(nobs))\n",
    "    x_2 = np.random.normal(scale=1., size=(nobs, num_cov))\n",
    "    e = np.random.normal(loc=0.0, scale=1.0, size=nobs)\n",
    "    y = (x_1 * m) + e\n",
    "    return y, x_1, x_2\n",
    "\n",
    "# Setup test\n",
    "def setup_test_params(y, x_1, x_2, a, model):\n",
    "    X = np.column_stack((x_1, x_2))\n",
    "    if model == 1:\n",
    "        ols = sm.OLS(y, X).fit()\n",
    "        return ols\n",
    "    elif model == 2:\n",
    "        lasso = sm.OLS(y, X).fit_regularized(method='elastic_net', alpha=a, L1_wt=1.0)\n",
    "        return lasso\n",
    "    elif model == 3:\n",
    "        ridge = sm.OLS(y, X).fit_regularized(method='elastic_net', alpha=a, L1_wt=0.0)\n",
    "        return ridge\n",
    "    elif model == 4:\n",
    "        ols = sm.OLS(y, X).fit()\n",
    "        lasso = sm.OLS(y, X).fit_regularized(method='elastic_net', alpha=a, L1_wt=1.0)\n",
    "        return ols, lasso\n",
    "    elif model == 5:\n",
    "        ols = sm.OLS(y, X).fit()\n",
    "        ridge = sm.OLS(y, X).fit_regularized(method='elastic_net', alpha=a, L1_wt=0.0)\n",
    "        return ols, ridge\n",
    "    elif model == 6:\n",
    "        lasso = sm.OLS(y, X).fit_regularized(method='elastic_net', alpha=a, L1_wt=1.0)\n",
    "        ridge = sm.OLS(y, X).fit_regularized(method='elastic_net', alpha=a, L1_wt=0.0)\n",
    "        return lasso, ridge\n",
    "\n",
    "def standardize(array):\n",
    "    \"\"\"divide by variance, multiple by sqrt(n)\"\"\"\n",
    "    return np.sqrt(len(array))*array.mean()/array.std()\n",
    "    \n",
    "# MSE\n",
    "def setup_test_mse(n, k, a, m, model):\n",
    "    ytr, x_1tr, x_2tr = gen_data(nobs=n, num_cov=k, m=m)\n",
    "    Xtr = np.column_stack((x_1tr, x_2tr))\n",
    "\n",
    "    yte, x_1te, x_2te = gen_data(nobs=n, num_cov=k, m=m)   \n",
    "    Xte = np.column_stack((x_1te, x_2te))\n",
    "    \n",
    "    statistic = None\n",
    "    if model == 1:\n",
    "        ols = sm.OLS(ytr, Xtr).fit()\n",
    "        statistic =  (yte-ols.predict(Xte))**2\n",
    "    elif model == 2:\n",
    "        lasso = sm.OLS(ytr, Xtr).fit_regularized(method='elastic_net', alpha=a, L1_wt=1.0)\n",
    "        statistic = (yte-lasso.predict(Xte))**2\n",
    "    elif model == 3:\n",
    "        ridge = sm.OLS(ytr, Xtr).fit_regularized(method='elastic_net', alpha=a, L1_wt=0.0)\n",
    "        statistic =  (yte-ridge.predict(Xte))**2\n",
    "    elif model == 4:\n",
    "        ols = sm.OLS(ytr, Xtr).fit()\n",
    "        ols_mse = (yte-ols.predict(Xte))**2\n",
    "        lasso = sm.OLS(ytr, Xtr).fit_regularized(method='elastic_net', alpha=a, L1_wt=1.0)\n",
    "        lasso_mse = (yte-lasso.predict(Xte))**2\n",
    "        statistic =  ols_mse - lasso_mse\n",
    "    elif model == 5:\n",
    "        ols = sm.OLS(ytr, Xtr).fit()\n",
    "        ols_mse = (yte-ols.predict(Xte))**2\n",
    "        ridge = sm.OLS(ytr, Xtr).fit_regularized(method='elastic_net', alpha=a, L1_wt=0.0)\n",
    "        ridge_mse = (yte-ridge.predict(Xte))**2\n",
    "        statistic = ols_mse - ridge_mse\n",
    "    elif model == 6:\n",
    "        lasso = sm.OLS(ytr, Xtr).fit_regularized(method='elastic_net', alpha=a, L1_wt=1.0)\n",
    "        lasso_mse = (yte-lasso.predict(Xte))**2\n",
    "        ridge = sm.OLS(ytr, Xtr).fit_regularized(method='elastic_net', alpha=a, L1_wt=0.0)\n",
    "        ridge_mse = (yte-ridge.predict(Xte))**2\n",
    "        statistic = lasso_mse - ridge_mse\n",
    "    return standardize(statistic)\n",
    "\n",
    "\n",
    "# Calculate MSEs\n",
    "def mse(lst, n, i, model):\n",
    "    lst_cols = ['statistic_' + str(i)]\n",
    "    df = pd.DataFrame(lst, columns=lst_cols)\n",
    "    print(\"Mean:\", np.mean(df)[0], \"Median:\", np.median(df), \"Mode:\", stats.mode(df)[0], \"Variance:\", np.var(df)[0])\n",
    "    return plt.hist(df['statistic_'+str(i)], label='mse_'+str(i),alpha=0.5)\n",
    "\n",
    "\n",
    "print(setup_test_mse(1000, 1, .1, 1, 1))"
   ]
  },
  {
   "cell_type": "markdown",
   "id": "a0de01f6",
   "metadata": {},
   "source": [
    "### Varying values"
   ]
  },
  {
   "cell_type": "code",
   "execution_count": 3,
   "id": "4b530405",
   "metadata": {},
   "outputs": [],
   "source": [
    "# Vary number of observations\n",
    "def vary_obs(model):\n",
    "    k = 10\n",
    "    m = 1\n",
    "    a = 0.1\n",
    "    n = [100,250,500,1000]\n",
    "    for i in n: \n",
    "        lst = []\n",
    "        for j in range(1000):\n",
    "            results = setup_test_mse(i, k, a, m, model)\n",
    "            lst.append(results)\n",
    "        output = mse(lst, i, i, model)\n",
    "    plt.legend()\n",
    "    plt.show()\n",
    "\n",
    "# Vary alpha levels\n",
    "def vary_alpha(model):\n",
    "    k = 10\n",
    "    m = 10\n",
    "    a = [0,0.1,0.5,1]\n",
    "    n = 1000\n",
    "    for i in a: \n",
    "        lst = []\n",
    "        for j in range(1000):\n",
    "            results = setup_test_mse(n, k, i, m, model)\n",
    "            lst.append(results)\n",
    "        output = mse(lst, n, i, model)\n",
    "    plt.legend()\n",
    "    plt.show()\n",
    "\n",
    "# Vary number of x variables\n",
    "def vary_xvars(model):\n",
    "    k = [1,10,25,50]\n",
    "    m = 1\n",
    "    a = 0.1\n",
    "    n = 1000\n",
    "    for i in k: \n",
    "        lst = []\n",
    "        for j in range(1000):\n",
    "            results = setup_test_mse(n, i, a, m, model)\n",
    "            lst.append(results)\n",
    "        output = mse(lst, n, i, model)\n",
    "    plt.legend()\n",
    "    plt.show()\n",
    "\n",
    "# Vary the model with a multiplicative factor\n",
    "def vary_multiply(model):\n",
    "    k = 10\n",
    "    m = [0.1,0.5,1,2]\n",
    "    a = 0.1\n",
    "    n = 1000\n",
    "    for i in m: \n",
    "        lst = []\n",
    "        for j in range(1000):\n",
    "            results = setup_test_mse(n, k, a, i, model)\n",
    "            lst.append(results)\n",
    "        output = mse(lst, n, i, model)\n",
    "    plt.legend()\n",
    "    plt.show()    \n",
    "    \n",
    "def params_scatter(model):\n",
    "    single_models = [1,2,3]\n",
    "    k = [1,10,25,50]\n",
    "    m = 1\n",
    "    a = 0.1\n",
    "    n = 1000\n",
    "    if model in single_models:\n",
    "        for i in k:\n",
    "            y, x_1, x_2 = gen_data(nobs=n, num_cov=i, m=m)\n",
    "            x = setup_test_params(y, x_1, x_2, a, model)\n",
    "            plt.scatter(range(len(x.params)), x.params, label=i)\n",
    "        plt.legend()\n",
    "        plt.show()\n",
    "    else:\n",
    "        for i in k:\n",
    "            y, x_1, x_2 = gen_data(nobs=n, num_cov=i, m=m)\n",
    "            x = setup_test_params(y, x_1, x_2, a, model)\n",
    "            for j in list(setup_test_params(y, x_1, x_2, a, model)):\n",
    "                plt.scatter(range(len(j.params)), j.params)\n",
    "        plt.legend(['model1','model2'])\n",
    "        plt.show()"
   ]
  },
  {
   "cell_type": "code",
   "execution_count": 7,
   "id": "8f660d2e",
   "metadata": {},
   "outputs": [
    {
     "name": "stdout",
     "output_type": "stream",
     "text": [
      "Vary Observations\n",
      "Mean: 1.5127519982752637 Median: 1.5185139787229998 Mode: [[-2.16600186]] Variance: 1.2970173562171472\n",
      "Mean: 1.0609609630831192 Median: 1.0707231231999093 Mode: [[-3.60434138]] Variance: 1.5159512328476497\n",
      "Mean: 0.610910341614338 Median: 0.6081440975436827 Mode: [[-3.37271471]] Variance: 1.5828154445439733\n",
      "Mean: -0.03907975259967454 Median: -0.023672921440343754 Mode: [[-4.60437286]] Variance: 1.6498134028572455\n"
     ]
    },
    {
     "data": {
      "image/png": "[encoded data removed]",
      "text/plain": [
       "<Figure size 432x288 with 1 Axes>"
      ]
     },
     "metadata": {
      "needs_background": "light"
     },
     "output_type": "display_data"
    },
    {
     "name": "stdout",
     "output_type": "stream",
     "text": [
      "Vary Alpha Levels\n",
      "Mean: 0.07277961264127399 Median: 0.06817494533794596 Mode: [[-4.58180165]] Variance: 2.155958210506294\n",
      "Mean: 0.05474894235511695 Median: 0.0669470258243673 Mode: [[-4.61614538]] Variance: 1.6395195329611412\n",
      "Mean: -7.077804632281835 Median: -7.0538312698572065 Mode: [[-10.69306832]] Variance: 1.5751020263126498\n",
      "Mean: -12.80355459832137 Median: -12.852539398319635 Mode: [[-16.22283721]] Variance: 1.145919051312012\n"
     ]
    },
    {
     "data": {
      "image/png": "[encoded data removed]",
      "text/plain": [
       "<Figure size 432x288 with 1 Axes>"
      ]
     },
     "metadata": {
      "needs_background": "light"
     },
     "output_type": "display_data"
    },
    {
     "name": "stdout",
     "output_type": "stream",
     "text": [
      "Vary Multiplicative Factors\n",
      "Mean: 0.29944837717912587 Median: 0.3667387822486456 Mode: [[-3.08655689]] Variance: 1.3406300638165731\n",
      "Mean: 0.0062557527923698475 Median: 0.05169198863810687 Mode: [[-4.1104498]] Variance: 1.7408416598290117\n",
      "Mean: -0.06240982076178652 Median: -0.03341122073346196 Mode: [[-4.57845862]] Variance: 1.7537586729717949\n",
      "Mean: -0.07747445214891999 Median: -0.10149058024880953 Mode: [[-4.03129111]] Variance: 1.7853643915985624\n"
     ]
    },
    {
     "data": {
      "image/png": "[encoded data removed]",
      "text/plain": [
       "<Figure size 432x288 with 1 Axes>"
      ]
     },
     "metadata": {
      "needs_background": "light"
     },
     "output_type": "display_data"
    },
    {
     "name": "stdout",
     "output_type": "stream",
     "text": [
      "Vary X Variables\n",
      "Mean: -1.3563039917652404 Median: -1.3728335125259146 Mode: [[-5.78293112]] Variance: 1.8645977948746293\n",
      "Mean: -0.02270165160975692 Median: 0.004846386767644033 Mode: [[-4.33555955]] Variance: 1.6440329504416054\n",
      "Mean: 1.2766029549522888 Median: 1.2470072044545986 Mode: [[-2.48752084]] Variance: 1.5664744401663548\n",
      "Mean: 2.6261284236316254 Median: 2.624361551264707 Mode: [[-1.47584655]] Variance: 1.3368839370045134\n"
     ]
    },
    {
     "data": {
      "image/png": "[encoded data removed]",
      "text/plain": [
       "<Figure size 432x288 with 1 Axes>"
      ]
     },
     "metadata": {
      "needs_background": "light"
     },
     "output_type": "display_data"
    }
   ],
   "source": [
    "# Model = 4 is OlS - Lasso\n",
    "print('Vary Observations')\n",
    "vary_obs(4)\n",
    "print('Vary Alpha Levels')\n",
    "vary_alpha(4)\n",
    "print('Vary Multiplicative Factors')\n",
    "vary_multiply(4)\n",
    "print('Vary X Variables')\n",
    "vary_xvars(4)"
   ]
  },
  {
   "cell_type": "code",
   "execution_count": 8,
   "id": "6e60e1ba",
   "metadata": {},
   "outputs": [
    {
     "name": "stdout",
     "output_type": "stream",
     "text": [
      "Vary Observations\n",
      "Mean: 0.4757856745146056 Median: 0.5100122777311191 Mode: [[-3.62297597]] Variance: 1.9687759683627233\n",
      "Mean: -0.06631924416794316 Median: -0.03125599982788817 Mode: [[-4.62558838]] Variance: 2.1287200225091563\n",
      "Mean: -0.542820119169448 Median: -0.5456525121708082 Mode: [[-5.04694498]] Variance: 1.9752240346531598\n",
      "Mean: -1.152436908483399 Median: -1.1748271190171198 Mode: [[-4.98983541]] Variance: 1.9539502924111343\n"
     ]
    },
    {
     "data": {
      "image/png": "[encoded data removed]",
      "text/plain": [
       "<Figure size 432x288 with 1 Axes>"
      ]
     },
     "metadata": {
      "needs_background": "light"
     },
     "output_type": "display_data"
    },
    {
     "name": "stdout",
     "output_type": "stream",
     "text": [
      "Vary Alpha Levels\n",
      "Mean: 0.0023303838858584874 Median: 0.027740771033928146 Mode: [[-4.3100217]] Variance: 1.8090522914711813\n",
      "Mean: -12.14482724856619 Median: -12.160984738498879 Mode: [[-15.119592]] Variance: 1.0442529112872097\n",
      "Mean: -20.73224874009277 Median: -20.712268442971673 Mode: [[-23.03995185]] Variance: 0.589245952101362\n",
      "Mean: -21.61188573176681 Median: -21.617074407900894 Mode: [[-24.56266351]] Variance: 0.69775733823453\n"
     ]
    },
    {
     "data": {
      "image/png": "[encoded data removed]",
      "text/plain": [
       "<Figure size 432x288 with 1 Axes>"
      ]
     },
     "metadata": {
      "needs_background": "light"
     },
     "output_type": "display_data"
    },
    {
     "name": "stdout",
     "output_type": "stream",
     "text": [
      "Vary Multiplicative Factors\n",
      "Mean: 2.047260662895513 Median: 2.037600281737281 Mode: [[-2.22021936]] Variance: 1.7803346354055158\n",
      "Mean: -0.12326938228262511 Median: -0.15164692777053213 Mode: [[-4.11940807]] Variance: 1.8630105469023703\n",
      "Mean: -1.0619848089698456 Median: -1.1026970467731925 Mode: [[-4.95850915]] Variance: 1.7964263273403562\n",
      "Mean: -2.708499088792743 Median: -2.7352610170045 Mode: [[-6.8264904]] Variance: 1.7734965030090788\n"
     ]
    },
    {
     "data": {
      "image/png": "[encoded data removed]",
      "text/plain": [
       "<Figure size 432x288 with 1 Axes>"
      ]
     },
     "metadata": {
      "needs_background": "light"
     },
     "output_type": "display_data"
    },
    {
     "name": "stdout",
     "output_type": "stream",
     "text": [
      "Vary X Variables\n",
      "Mean: -1.3693063812839599 Median: -1.3585207821972876 Mode: [[-5.18462416]] Variance: 1.8997094932695215\n",
      "Mean: -1.171292688919268 Median: -1.1900726757395796 Mode: [[-6.00241317]] Variance: 2.0553561323485434\n",
      "Mean: -0.6578537542668892 Median: -0.6857854133335092 Mode: [[-4.62303383]] Variance: 1.9505082553227753\n",
      "Mean: 0.03889021371402853 Median: 0.02795568269875985 Mode: [[-4.17641387]] Variance: 1.8578043380870144\n"
     ]
    },
    {
     "data": {
      "image/png": "[encoded data removed]",
      "text/plain": [
       "<Figure size 432x288 with 1 Axes>"
      ]
     },
     "metadata": {
      "needs_background": "light"
     },
     "output_type": "display_data"
    }
   ],
   "source": [
    "# Model = 5 is OlS - Ridge\n",
    "print('Vary Observations')\n",
    "vary_obs(5)\n",
    "print('Vary Alpha Levels')\n",
    "vary_alpha(5)\n",
    "print('Vary Multiplicative Factors')\n",
    "vary_multiply(5)\n",
    "print('Vary X Variables')\n",
    "vary_xvars(5)"
   ]
  },
  {
   "cell_type": "code",
   "execution_count": 9,
   "id": "a3e27fb8",
   "metadata": {
    "scrolled": false
   },
   "outputs": [
    {
     "name": "stdout",
     "output_type": "stream",
     "text": [
      "Vary Observations\n",
      "Mean: -1.5639388982882765 Median: -1.6000108766812162 Mode: [[-5.19713193]] Variance: 1.244038988542365\n",
      "Mean: -1.3844876270989623 Median: -1.3828371644352027 Mode: [[-4.92912615]] Variance: 1.2127681444547547\n",
      "Mean: -1.301314224992769 Median: -1.2787802060812996 Mode: [[-4.45866]] Variance: 1.3085526833028074\n",
      "Mean: -1.105360313645577 Median: -1.0915982514208666 Mode: [[-5.37975416]] Variance: 1.113247236013448\n"
     ]
    },
    {
     "data": {
      "image/png": "[encoded data removed]",
      "text/plain": [
       "<Figure size 432x288 with 1 Axes>"
      ]
     },
     "metadata": {
      "needs_background": "light"
     },
     "output_type": "display_data"
    },
    {
     "name": "stdout",
     "output_type": "stream",
     "text": [
      "Vary Alpha Levels\n",
      "Mean: -0.009525828890747691 Median: 0.03935684605482405 Mode: [[-5.30545818]] Variance: 1.905860564094159\n",
      "Mean: -13.139691764865368 Median: -13.135254448874017 Mode: [[-16.45105566]] Variance: 1.02278235818159\n",
      "Mean: -21.03075897224715 Median: -21.040792202034847 Mode: [[-23.80469496]] Variance: 0.6916339348235897\n",
      "Mean: -21.861159134889277 Median: -21.886449674043753 Mode: [[-24.88848739]] Variance: 0.6978597090757301\n"
     ]
    },
    {
     "data": {
      "image/png": "[encoded data removed]",
      "text/plain": [
       "<Figure size 432x288 with 1 Axes>"
      ]
     },
     "metadata": {
      "needs_background": "light"
     },
     "output_type": "display_data"
    },
    {
     "name": "stdout",
     "output_type": "stream",
     "text": [
      "Vary Multiplicative Factors\n",
      "Mean: -0.12526650833405714 Median: -0.11776088984516006 Mode: [[-4.33889765]] Variance: 1.3494144332104\n",
      "Mean: 0.043356971492682896 Median: 0.03148326808205916 Mode: [[-4.43739927]] Variance: 1.6317947781637427\n",
      "Mean: -1.0157334539509375 Median: -1.066124431499155 Mode: [[-4.54621053]] Variance: 1.228121476551325\n",
      "Mean: -3.9612805301664054 Median: -3.9763584824245024 Mode: [[-7.90507724]] Variance: 1.2152373494462692\n"
     ]
    },
    {
     "data": {
      "image/png": "[encoded data removed]",
      "text/plain": [
       "<Figure size 432x288 with 1 Axes>"
      ]
     },
     "metadata": {
      "needs_background": "light"
     },
     "output_type": "display_data"
    },
    {
     "name": "stdout",
     "output_type": "stream",
     "text": [
      "Vary X Variables\n",
      "Mean: 1.2323748041182403 Median: 1.1659949504372311 Mode: [[-3.97305825]] Variance: 2.6664796456036637\n",
      "Mean: -1.060571818793606 Median: -1.0186473432425383 Mode: [[-5.08624367]] Variance: 1.2519597933685167\n",
      "Mean: -2.068636985699507 Median: -2.055161980846255 Mode: [[-5.47852081]] Variance: 1.1201658814134778\n",
      "Mean: -3.1065404999682027 Median: -3.118710922341557 Mode: [[-6.34716874]] Variance: 1.0283622765495717\n"
     ]
    },
    {
     "data": {
      "image/png": "[encoded data removed]",
      "text/plain": [
       "<Figure size 432x288 with 1 Axes>"
      ]
     },
     "metadata": {
      "needs_background": "light"
     },
     "output_type": "display_data"
    }
   ],
   "source": [
    "# Model = 6 is Lasso - Ridge\n",
    "print('Vary Observations')\n",
    "vary_obs(6)\n",
    "print('Vary Alpha Levels')\n",
    "vary_alpha(6)\n",
    "print('Vary Multiplicative Factors')\n",
    "vary_multiply(6)\n",
    "print('Vary X Variables')\n",
    "vary_xvars(6)"
   ]
  },
  {
   "cell_type": "code",
   "execution_count": null,
   "id": "21dcc594",
   "metadata": {},
   "outputs": [],
   "source": []
  },
  {
   "cell_type": "code",
   "execution_count": null,
   "id": "2adfb3cf",
   "metadata": {},
   "outputs": [],
   "source": []
  }
 ],
 "metadata": {
  "kernelspec": {
   "display_name": "Python 3",
   "language": "python",
   "name": "python3"
  },
  "language_info": {
   "codemirror_mode": {
    "name": "ipython",
    "version": 3
   },
   "file_extension": ".py",
   "mimetype": "text/x-python",
   "name": "python",
   "nbconvert_exporter": "python",
   "pygments_lexer": "ipython3",
   "version": "3.8.8"
  }
 },
 "nbformat": 4,
 "nbformat_minor": 5
}
