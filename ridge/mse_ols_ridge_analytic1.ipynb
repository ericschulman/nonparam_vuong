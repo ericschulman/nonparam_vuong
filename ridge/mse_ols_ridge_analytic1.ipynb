{
 "cells": [
  {
   "cell_type": "code",
   "execution_count": 30,
   "id": "5476f8da",
   "metadata": {},
   "outputs": [],
   "source": [
    "import numpy as np"
   ]
  },
  {
   "cell_type": "code",
   "execution_count": 31,
   "id": "12b1ad3a",
   "metadata": {},
   "outputs": [],
   "source": [
    "#generate the data\n",
    "\n",
    "k= 20\n",
    "n = 100\n",
    "X = np.random.normal(size=(n,k))\n",
    "E = np.random.normal(size=(n,1))\n",
    "Y = X.sum(axis=1).reshape(n,1) + E"
   ]
  },
  {
   "cell_type": "code",
   "execution_count": 32,
   "id": "9681908a",
   "metadata": {},
   "outputs": [
    {
     "name": "stdout",
     "output_type": "stream",
     "text": [
      "[0.96748463]\n",
      "[0.31564165]\n",
      "0.19999999999999996\n"
     ]
    }
   ],
   "source": [
    "XX = (X.T).dot(X)\n",
    "Px = X.dot( np.linalg.inv( XX ) ).dot( X.T )\n",
    "\n",
    "\n",
    "E_hat = Y - Px.dot(Y)\n",
    "\n",
    "#MSE in sample of ols predictor?\n",
    "print(   E_hat.T.dot(E_hat)[0]/n )\n",
    "\n",
    "#risk? of ols\n",
    "risk = X.sum(axis=1).reshape(n,1) - Px.dot(Y)\n",
    "print( risk.T.dot(risk)[0]/n )\n",
    "\n",
    "#theoretical risk?\n",
    "print(np.trace(Px)/n)"
   ]
  },
  {
   "cell_type": "code",
   "execution_count": 33,
   "id": "1e8063d5",
   "metadata": {},
   "outputs": [
    {
     "name": "stdout",
     "output_type": "stream",
     "text": [
      "[13412.40590016]\n",
      "[13435.28151451]\n",
      "4.200810455416636\n"
     ]
    }
   ],
   "source": [
    "#X = np.array([[1,2], [2,-3],[5,3],[-2,-7]])\n",
    "k = X.shape[1]\n",
    "\n",
    "XX = (X.T).dot(X)\n",
    "Px = X.dot( np.linalg.inv( XX ) + .2*np.identity(k) ).dot( X.T )\n",
    "\n",
    "#MSE in sample of ols predictor?\n",
    "E_hat = Y - Px.dot(Y)\n",
    "print(   E_hat.T.dot(E_hat)[0]/n )\n",
    "\n",
    "#risk? of ols\n",
    "risk = X.sum(axis=1).reshape(n,1) - Px.dot(Y)\n",
    "print( risk.T.dot(risk)[0]/n )\n",
    "\n",
    "#theoretical risk?\n",
    "print(np.trace(Px)/n)"
   ]
  },
  {
   "cell_type": "code",
   "execution_count": 34,
   "id": "88a70376",
   "metadata": {},
   "outputs": [],
   "source": [
    "X0 = np.random.normal(size=(n,k))\n",
    "E0 = np.random.normal(size=(n,1))\n",
    "Y0 = X0.sum(axis=1).reshape(n,1) + E0"
   ]
  },
  {
   "cell_type": "code",
   "execution_count": 35,
   "id": "960d936b",
   "metadata": {},
   "outputs": [
    {
     "name": "stdout",
     "output_type": "stream",
     "text": [
      "[1.26527448]\n",
      "[0.30515434]\n",
      "0.26983042814472485\n"
     ]
    }
   ],
   "source": [
    "XX = (X.T).dot(X)\n",
    "beta = np.linalg.inv( XX ).dot( X.T ).dot(Y)\n",
    "Px0 = X0.dot( np.linalg.inv( XX  ) ).dot( X0.T )\n",
    "\n",
    "\n",
    "#MSE in sample of ols predictor?\n",
    "E_hat0 = Y0 - X0.dot(beta)\n",
    "print(   E_hat0.T.dot(E_hat0)[0]/n )\n",
    "\n",
    "#risk? of ols\n",
    "risk = X0.sum(axis=1).reshape(n,1) - X0.dot(beta)\n",
    "print( risk.T.dot(risk)[0]/n )\n",
    "\n",
    "#theoretical risk?\n",
    "print(np.trace(Px0)/n)"
   ]
  },
  {
   "cell_type": "code",
   "execution_count": 36,
   "id": "f74f215f",
   "metadata": {},
   "outputs": [
    {
     "name": "stdout",
     "output_type": "stream",
     "text": [
      "[1.26711125]\n",
      "[0.30379447]\n",
      "0.2689867541082206\n"
     ]
    }
   ],
   "source": [
    "XX = (X.T).dot(X)\n",
    "beta = np.linalg.inv( XX  + .2*np.identity(k) ).dot( X.T ).dot(Y)\n",
    "Px0 = X0.dot( np.linalg.inv( XX  + .2*np.identity(k) ) ).dot( X0.T )\n",
    "\n",
    "\n",
    "#MSE in sample of ols predictor?\n",
    "E_hat0 = Y0 - X0.dot(beta)\n",
    "print(   E_hat0.T.dot(E_hat0)[0]/n )\n",
    "\n",
    "#risk? of ols\n",
    "risk = X0.sum(axis=1).reshape(n,1) - X0.dot(beta)\n",
    "print( risk.T.dot(risk)[0]/n )\n",
    "\n",
    "#theoretical risk?\n",
    "print(np.trace(Px0)/n)"
   ]
  },
  {
   "cell_type": "code",
   "execution_count": null,
   "id": "4af76318",
   "metadata": {},
   "outputs": [],
   "source": []
  },
  {
   "cell_type": "code",
   "execution_count": null,
   "id": "6107c88b",
   "metadata": {},
   "outputs": [],
   "source": []
  }
 ],
 "metadata": {
  "kernelspec": {
   "display_name": "Python 3",
   "language": "python",
   "name": "python3"
  },
  "language_info": {
   "codemirror_mode": {
    "name": "ipython",
    "version": 3
   },
   "file_extension": ".py",
   "mimetype": "text/x-python",
   "name": "python",
   "nbconvert_exporter": "python",
   "pygments_lexer": "ipython3",
   "version": "3.8.8"
  }
 },
 "nbformat": 4,
 "nbformat_minor": 5
}
