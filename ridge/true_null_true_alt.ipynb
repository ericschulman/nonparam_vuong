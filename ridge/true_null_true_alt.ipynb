{
 "cells": [
  {
   "cell_type": "code",
   "execution_count": 1,
   "id": "e5ad7fd8",
   "metadata": {},
   "outputs": [],
   "source": [
    "import numpy as np\n",
    "import matplotlib.pyplot as plt"
   ]
  },
  {
   "cell_type": "markdown",
   "id": "db8e5ae4",
   "metadata": {},
   "source": [
    "$$|| \\hat beta - \\beta_0 || = p \\sigma^2$$\n",
    "\n",
    "$$ || \\hat \\beta^{ridge} || = p \\sigma^2 (1-\\lambda)^{-2} + \\lambda^2 (1-\\lambda)^{-2} \\beta^t \\beta $$\n"
   ]
  },
  {
   "cell_type": "code",
   "execution_count": 2,
   "id": "f161299d",
   "metadata": {},
   "outputs": [],
   "source": [
    "k= 10\n",
    "n = 1000\n",
    "\n",
    "#1  =  1/(1+x)^2 + m*x^2/(1+x)^2 solve for x\n",
    "#http://www.few.vu.nl/~wvanwie/Courses/HighdimensionalDataAnalysis/WNvanWieringen_HDDA_Lecture234_RidgeRegression_20182019.pdf\n",
    "\n",
    "m = 5\n",
    "alpha = 1/12 #?\n",
    "#alpha = k/m? minimizes?\n",
    "\n",
    "X = np.random.normal(size=(n,k))\n",
    "E = np.random.normal(size=(n,1))\n",
    "Y = m*X.sum(axis=1).reshape(n,1) + E\n",
    "\n",
    "X0 = np.random.normal(size=(n,k))\n",
    "E0 = np.random.normal(size=(n,1))\n",
    "Y0 = m*X0.sum(axis=1).reshape(n,1) + E0"
   ]
  },
  {
   "cell_type": "code",
   "execution_count": 3,
   "id": "7274ed25",
   "metadata": {},
   "outputs": [
    {
     "name": "stdout",
     "output_type": "stream",
     "text": [
      "[1.09633047]\n",
      "[155.95776203]\n",
      "0.009666952031291684\n"
     ]
    }
   ],
   "source": [
    "XX = (X.T).dot(X)\n",
    "beta = np.linalg.inv( XX ).dot( X.T ).dot(Y)\n",
    "Px0 = X0.dot( np.linalg.inv( XX  ) ).dot( X0.T )\n",
    "\n",
    "\n",
    "#MSE in sample of ols predictor?\n",
    "E_hat0 = Y0 - X0.dot(beta)\n",
    "print(   E_hat0.T.dot(E_hat0)[0]/n )\n",
    "\n",
    "#risk? of ols\n",
    "risk = X0.sum(axis=1).reshape(n,1) - X0.dot(beta)\n",
    "print( risk.T.dot(risk)[0]/n )\n",
    "\n",
    "#theoretical risk?\n",
    "print(np.trace(Px0)/n)"
   ]
  },
  {
   "cell_type": "code",
   "execution_count": 4,
   "id": "a069f0d2",
   "metadata": {},
   "outputs": [
    {
     "name": "stdout",
     "output_type": "stream",
     "text": [
      "[1.09652897]\n",
      "[155.92278996]\n",
      "0.009666144236703018\n"
     ]
    }
   ],
   "source": [
    "XX = (X.T).dot(X)\n",
    "beta = np.linalg.inv( XX  + alpha*np.identity(k) ).dot( X.T ).dot(Y)\n",
    "Px0 = X0.dot( np.linalg.inv( XX  + alpha*np.identity(k) ) ).dot( X0.T )\n",
    "\n",
    "\n",
    "#MSE in sample of ols predictor?\n",
    "E_hat0 = Y0 - X0.dot(beta)\n",
    "print(   E_hat0.T.dot(E_hat0)[0]/n )\n",
    "\n",
    "#risk? of ols\n",
    "risk = X0.sum(axis=1).reshape(n,1) - X0.dot(beta)\n",
    "print( risk.T.dot(risk)[0]/n )\n",
    "\n",
    "#theoretical risk?\n",
    "print(np.trace(Px0)/n)"
   ]
  },
  {
   "cell_type": "code",
   "execution_count": 13,
   "id": "56a01bc6",
   "metadata": {},
   "outputs": [
    {
     "name": "stdout",
     "output_type": "stream",
     "text": [
      "10 1000 0.08333333333333333\n"
     ]
    },
    {
     "data": {
      "image/png": "[encoded data removed]",
      "text/plain": [
       "<Figure size 432x288 with 1 Axes>"
      ]
     },
     "metadata": {
      "needs_background": "light"
     },
     "output_type": "display_data"
    },
    {
     "name": "stdout",
     "output_type": "stream",
     "text": [
      "1.0031488485068933\n",
      "0.008477550276502772\n"
     ]
    }
   ],
   "source": [
    "def standardize(array):\n",
    "    \"\"\"divide by variance, multiple by sqrt(n)\"\"\"\n",
    "    array = np.array(array)\n",
    "    return np.sqrt(len(array))*array.mean()/array.std()\n",
    "\n",
    "\n",
    "def monte_carlo(n_trials=1000,k= 10,n = 1000, m = 5, alpha = 1/12):\n",
    "    print(k,n,alpha)\n",
    "    n_trials = 1000\n",
    "    mses = []\n",
    "    for i in range(n_trials):\n",
    "        #split sample for model 1\n",
    "        X = np.random.normal(size=(n,k))\n",
    "        E = np.random.normal(size=(n,1))\n",
    "        Y = m*X.sum(axis=1).reshape(n,1) + E\n",
    "\n",
    "\n",
    "        XX = (X.T).dot(X)\n",
    "        beta = np.linalg.inv( XX ).dot( X.T ).dot(Y)\n",
    "\n",
    "        E_hat = Y - X.dot(beta)\n",
    "        mse = E_hat**2\n",
    "\n",
    "        #model 2\n",
    "        X0 = np.random.normal(size=(n,k))\n",
    "        E0 = np.random.normal(size=(n,1))\n",
    "        Y0 = m*X0.sum(axis=1).reshape(n,1) + E0\n",
    "\n",
    "        XX0 = (X0.T).dot(X0)\n",
    "        beta_r = np.linalg.inv( XX0  + alpha*np.identity(k) ).dot( X0.T ).dot(Y0)\n",
    "\n",
    "        E_hat_r = Y0 - X0.dot(beta_r)\n",
    "        mse_r = E_hat_r**2 #fit on the alternate set?\n",
    "\n",
    "        mses.append( standardize(mse_r - mse) )\n",
    "    return np.array(mses)\n",
    "\n",
    "#under null hypothesis\n",
    "mses= monte_carlo()\n",
    "plt.hist(mses,alpha=.5,label='test stat')\n",
    "x = np.random.normal(size=1000)\n",
    "plt.hist(x,alpha=.5,label='normal rv')\n",
    "plt.savefig('null_lasso.png',dpi=300)\n",
    "plt.legend()\n",
    "plt.show()\n",
    "print(mses.var())\n",
    "print(mses.mean())"
   ]
  },
  {
   "cell_type": "code",
   "execution_count": 14,
   "id": "3f3a7a31",
   "metadata": {},
   "outputs": [
    {
     "name": "stdout",
     "output_type": "stream",
     "text": [
      "10 100 5\n",
      "0.6640493656448342\n",
      "2.540679545896894\n",
      "15 150 7.5\n",
      "0.5561217898308823\n",
      "4.019984087029021\n",
      "20 200 10\n",
      "0.5810054963788197\n",
      "5.384788018889749\n"
     ]
    },
    {
     "data": {
      "image/png": "[encoded data removed]",
      "text/plain": [
       "<Figure size 432x288 with 1 Axes>"
      ]
     },
     "metadata": {
      "needs_background": "light"
     },
     "output_type": "display_data"
    }
   ],
   "source": [
    "#consistency... start with small sample\n",
    "\n",
    "for i in [1,1.5,2]:\n",
    "    mses = monte_carlo(k= int(10*i), n = int(100*i), alpha = 5*i)\n",
    "    plt.hist(mses,alpha=.5,label='n=' + str( int(i*100) ) )\n",
    "    print(mses.var())\n",
    "    print(mses.mean())\n",
    "plt.legend()\n",
    "plt.savefig('consist_lass.png',dpi=300)\n",
    "plt.show()\n"
   ]
  },
  {
   "cell_type": "code",
   "execution_count": null,
   "id": "3d53c68e",
   "metadata": {},
   "outputs": [],
   "source": []
  }
 ],
 "metadata": {
  "kernelspec": {
   "display_name": "Python 3",
   "language": "python",
   "name": "python3"
  },
  "language_info": {
   "codemirror_mode": {
    "name": "ipython",
    "version": 3
   },
   "file_extension": ".py",
   "mimetype": "text/x-python",
   "name": "python",
   "nbconvert_exporter": "python",
   "pygments_lexer": "ipython3",
   "version": "3.8.8"
  }
 },
 "nbformat": 4,
 "nbformat_minor": 5
}
