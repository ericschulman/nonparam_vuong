{
 "cells": [
  {
   "cell_type": "code",
   "execution_count": null,
   "id": "47a9f4bd",
   "metadata": {},
   "outputs": [],
   "source": [
    "from sklearn.linear_model import LinearRegression\n",
    "from basis_expansions import LinearSpline\n"
   ]
  },
  {
   "cell_type": "code",
   "execution_count": null,
   "id": "cc257cb7",
   "metadata": {},
   "outputs": [],
   "source": [
    "def make_pl_regression(n_knots):\n",
    "    return Pipeline([\n",
    "        ('pl', LinearSpline(0, 1, n_knots=n_knots)),\n",
    "        ('regression', LinearRegression(fit_intercept=True))\n",
    "    ])"
   ]
  }
 ],
 "metadata": {
  "kernelspec": {
   "display_name": "Python 3",
   "language": "python",
   "name": "python3"
  },
  "language_info": {
   "codemirror_mode": {
    "name": "ipython",
    "version": 3
   },
   "file_extension": ".py",
   "mimetype": "text/x-python",
   "name": "python",
   "nbconvert_exporter": "python",
   "pygments_lexer": "ipython3",
   "version": "3.8.8"
  }
 },
 "nbformat": 4,
 "nbformat_minor": 5
}
